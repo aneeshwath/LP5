{
  "nbformat": 4,
  "nbformat_minor": 0,
  "metadata": {
    "colab": {
      "provenance": [],
      "authorship_tag": "ABX9TyP82/hx8ixe+e2eakm1RvtL",
      "include_colab_link": true
    },
    "kernelspec": {
      "name": "python3",
      "display_name": "Python 3"
    },
    "language_info": {
      "name": "python"
    }
  },
  "cells": [
    {
      "cell_type": "markdown",
      "metadata": {
        "id": "view-in-github",
        "colab_type": "text"
      },
      "source": [
        "<a href=\"https://colab.research.google.com/github/aneeshwath/LP5/blob/main/Boston_Housing.ipynb\" target=\"_parent\"><img src=\"https://colab.research.google.com/assets/colab-badge.svg\" alt=\"Open In Colab\"/></a>"
      ]
    },
    {
      "cell_type": "markdown",
      "source": [
        "Boston Housing"
      ],
      "metadata": {
        "id": "oIKf1Gcdmlmy"
      }
    },
    {
      "cell_type": "code",
      "source": [
        "import numpy as np\n",
        "import tensorflow as tf\n",
        "from tensorflow import keras\n",
        "from tensorflow.keras import Sequential\n",
        "from tensorflow.keras.layers import Dense, Flatten\n",
        "from sklearn import preprocessing"
      ],
      "metadata": {
        "id": "W8Sg0vFPmqci"
      },
      "execution_count": 1,
      "outputs": []
    },
    {
      "cell_type": "code",
      "source": [
        "(X_train, Y_train), (X_test, Y_test) = keras.datasets.boston_housing.load_data()"
      ],
      "metadata": {
        "colab": {
          "base_uri": "https://localhost:8080/"
        },
        "id": "_spCOivJmrVL",
        "outputId": "9058c896-ccfa-432a-9a59-79bf5cc7a355"
      },
      "execution_count": 2,
      "outputs": [
        {
          "output_type": "stream",
          "name": "stdout",
          "text": [
            "Downloading data from https://storage.googleapis.com/tensorflow/tf-keras-datasets/boston_housing.npz\n",
            "57026/57026 [==============================] - 0s 0us/step\n"
          ]
        }
      ]
    },
    {
      "cell_type": "code",
      "source": [
        "print(\"Training data shape:\", X_train.shape)\n",
        "print(\"Test data shape:\", X_test.shape)\n",
        "print(\"Train output data shape:\", Y_train.shape)\n",
        "print(\"Actual Test output data shape:\", Y_test.shape)"
      ],
      "metadata": {
        "colab": {
          "base_uri": "https://localhost:8080/"
        },
        "id": "G17lJsOIm0CY",
        "outputId": "bec6d0de-3e9a-46fb-d31b-6602a5ee43a5"
      },
      "execution_count": 3,
      "outputs": [
        {
          "output_type": "stream",
          "name": "stdout",
          "text": [
            "Training data shape: (404, 13)\n",
            "Test data shape: (102, 13)\n",
            "Train output data shape: (404,)\n",
            "Actual Test output data shape: (102,)\n"
          ]
        }
      ]
    },
    {
      "cell_type": "code",
      "source": [
        "##Normalize the data\n",
        "\n",
        "X_train=preprocessing.normalize(X_train)\n",
        "X_test=preprocessing.normalize(X_test)"
      ],
      "metadata": {
        "id": "57kfSlrLm3FR"
      },
      "execution_count": 4,
      "outputs": []
    },
    {
      "cell_type": "code",
      "source": [
        "#Model Building\n",
        "\n",
        "X_train[0].shape\n",
        "model = Sequential()\n",
        "model.add(Dense(128,activation='relu',input_shape= X_train[0].shape))\n",
        "model.add(Dense(64,activation='relu'))\n",
        "model.add(Dense(32,activation='relu'))\n",
        "model.add(Dense(1))"
      ],
      "metadata": {
        "id": "oCkc2nQfm_Cx"
      },
      "execution_count": 5,
      "outputs": []
    },
    {
      "cell_type": "code",
      "source": [
        "model.summary()"
      ],
      "metadata": {
        "colab": {
          "base_uri": "https://localhost:8080/"
        },
        "id": "pRmaNJhInCCp",
        "outputId": "397c5215-2961-4f56-ef22-42d784ac2812"
      },
      "execution_count": 6,
      "outputs": [
        {
          "output_type": "stream",
          "name": "stdout",
          "text": [
            "Model: \"sequential\"\n",
            "_________________________________________________________________\n",
            " Layer (type)                Output Shape              Param #   \n",
            "=================================================================\n",
            " dense (Dense)               (None, 128)               1792      \n",
            "                                                                 \n",
            " dense_1 (Dense)             (None, 64)                8256      \n",
            "                                                                 \n",
            " dense_2 (Dense)             (None, 32)                2080      \n",
            "                                                                 \n",
            " dense_3 (Dense)             (None, 1)                 33        \n",
            "                                                                 \n",
            "=================================================================\n",
            "Total params: 12161 (47.50 KB)\n",
            "Trainable params: 12161 (47.50 KB)\n",
            "Non-trainable params: 0 (0.00 Byte)\n",
            "_________________________________________________________________\n"
          ]
        }
      ]
    },
    {
      "cell_type": "code",
      "source": [
        "model.compile(loss='mse',optimizer='rmsprop',metrics=['mae'])"
      ],
      "metadata": {
        "id": "FlniRu6WnE2Q"
      },
      "execution_count": 7,
      "outputs": []
    },
    {
      "cell_type": "code",
      "source": [
        "history = model.fit(X_train,Y_train,epochs=100,batch_size=1,verbose=1,validation_data=(X_test,Y_test))"
      ],
      "metadata": {
        "colab": {
          "base_uri": "https://localhost:8080/"
        },
        "id": "QhzH3kKCnH3a",
        "outputId": "200020fc-0566-4008-a8b7-805e76e7ac81"
      },
      "execution_count": 8,
      "outputs": [
        {
          "output_type": "stream",
          "name": "stdout",
          "text": [
            "Epoch 1/100\n",
            "404/404 [==============================] - 2s 2ms/step - loss: 146.0960 - mae: 8.7383 - val_loss: 71.2184 - val_mae: 5.9430\n",
            "Epoch 2/100\n",
            "404/404 [==============================] - 1s 2ms/step - loss: 68.7139 - mae: 5.8194 - val_loss: 62.2195 - val_mae: 5.6815\n",
            "Epoch 3/100\n",
            "404/404 [==============================] - 1s 2ms/step - loss: 64.1688 - mae: 5.5049 - val_loss: 56.9168 - val_mae: 5.7015\n",
            "Epoch 4/100\n",
            "404/404 [==============================] - 1s 2ms/step - loss: 61.6326 - mae: 5.4382 - val_loss: 56.2637 - val_mae: 5.4719\n",
            "Epoch 5/100\n",
            "404/404 [==============================] - 1s 2ms/step - loss: 58.2005 - mae: 5.1646 - val_loss: 58.4564 - val_mae: 5.4659\n",
            "Epoch 6/100\n",
            "404/404 [==============================] - 1s 2ms/step - loss: 57.7253 - mae: 5.1314 - val_loss: 52.2973 - val_mae: 5.3671\n",
            "Epoch 7/100\n",
            "404/404 [==============================] - 1s 2ms/step - loss: 55.2304 - mae: 5.1012 - val_loss: 53.7713 - val_mae: 5.2456\n",
            "Epoch 8/100\n",
            "404/404 [==============================] - 1s 2ms/step - loss: 53.6459 - mae: 5.0020 - val_loss: 51.5694 - val_mae: 5.3556\n",
            "Epoch 9/100\n",
            "404/404 [==============================] - 1s 2ms/step - loss: 53.8469 - mae: 4.9232 - val_loss: 54.0386 - val_mae: 5.1685\n",
            "Epoch 10/100\n",
            "404/404 [==============================] - 1s 2ms/step - loss: 51.5968 - mae: 4.8452 - val_loss: 49.5108 - val_mae: 5.2534\n",
            "Epoch 11/100\n",
            "404/404 [==============================] - 1s 3ms/step - loss: 50.0889 - mae: 4.7598 - val_loss: 47.1621 - val_mae: 4.8459\n",
            "Epoch 12/100\n",
            "404/404 [==============================] - 1s 3ms/step - loss: 48.3364 - mae: 4.7196 - val_loss: 49.4594 - val_mae: 4.8904\n",
            "Epoch 13/100\n",
            "404/404 [==============================] - 1s 2ms/step - loss: 47.1736 - mae: 4.5568 - val_loss: 50.3061 - val_mae: 4.9350\n",
            "Epoch 14/100\n",
            "404/404 [==============================] - 1s 2ms/step - loss: 45.6183 - mae: 4.6574 - val_loss: 48.7453 - val_mae: 4.8270\n",
            "Epoch 15/100\n",
            "404/404 [==============================] - 1s 2ms/step - loss: 43.6959 - mae: 4.4996 - val_loss: 40.0522 - val_mae: 4.5250\n",
            "Epoch 16/100\n",
            "404/404 [==============================] - 1s 2ms/step - loss: 42.5252 - mae: 4.4734 - val_loss: 41.7588 - val_mae: 4.4346\n",
            "Epoch 17/100\n",
            "404/404 [==============================] - 1s 2ms/step - loss: 40.9766 - mae: 4.4059 - val_loss: 38.0366 - val_mae: 4.4095\n",
            "Epoch 18/100\n",
            "404/404 [==============================] - 1s 2ms/step - loss: 38.2962 - mae: 4.2321 - val_loss: 39.5938 - val_mae: 4.3360\n",
            "Epoch 19/100\n",
            "404/404 [==============================] - 1s 2ms/step - loss: 38.4058 - mae: 4.3143 - val_loss: 36.3966 - val_mae: 4.1825\n",
            "Epoch 20/100\n",
            "404/404 [==============================] - 1s 2ms/step - loss: 37.3074 - mae: 4.2200 - val_loss: 37.7865 - val_mae: 4.2153\n",
            "Epoch 21/100\n",
            "404/404 [==============================] - 1s 2ms/step - loss: 36.5650 - mae: 4.2204 - val_loss: 41.9135 - val_mae: 4.4170\n",
            "Epoch 22/100\n",
            "404/404 [==============================] - 1s 3ms/step - loss: 36.3682 - mae: 4.1971 - val_loss: 32.2845 - val_mae: 4.0053\n",
            "Epoch 23/100\n",
            "404/404 [==============================] - 1s 2ms/step - loss: 35.6616 - mae: 4.0940 - val_loss: 31.6371 - val_mae: 3.9662\n",
            "Epoch 24/100\n",
            "404/404 [==============================] - 1s 2ms/step - loss: 33.6227 - mae: 4.0384 - val_loss: 33.8031 - val_mae: 4.0308\n",
            "Epoch 25/100\n",
            "404/404 [==============================] - 1s 3ms/step - loss: 33.8738 - mae: 4.0674 - val_loss: 35.5797 - val_mae: 4.0788\n",
            "Epoch 26/100\n",
            "404/404 [==============================] - 1s 3ms/step - loss: 31.4599 - mae: 3.9415 - val_loss: 40.5477 - val_mae: 4.3907\n",
            "Epoch 27/100\n",
            "404/404 [==============================] - 1s 2ms/step - loss: 32.2781 - mae: 3.9746 - val_loss: 30.6309 - val_mae: 4.1821\n",
            "Epoch 28/100\n",
            "404/404 [==============================] - 1s 2ms/step - loss: 31.2718 - mae: 4.0459 - val_loss: 30.8982 - val_mae: 4.2903\n",
            "Epoch 29/100\n",
            "404/404 [==============================] - 1s 2ms/step - loss: 31.0068 - mae: 4.0374 - val_loss: 34.8256 - val_mae: 4.0555\n",
            "Epoch 30/100\n",
            "404/404 [==============================] - 1s 2ms/step - loss: 30.0929 - mae: 3.8886 - val_loss: 36.3137 - val_mae: 4.1399\n",
            "Epoch 31/100\n",
            "404/404 [==============================] - 1s 2ms/step - loss: 29.9097 - mae: 3.9025 - val_loss: 30.1549 - val_mae: 3.7616\n",
            "Epoch 32/100\n",
            "404/404 [==============================] - 1s 2ms/step - loss: 29.5889 - mae: 3.8850 - val_loss: 34.8098 - val_mae: 4.0329\n",
            "Epoch 33/100\n",
            "404/404 [==============================] - 1s 2ms/step - loss: 29.6137 - mae: 3.7958 - val_loss: 26.6413 - val_mae: 3.6238\n",
            "Epoch 34/100\n",
            "404/404 [==============================] - 1s 2ms/step - loss: 29.7133 - mae: 3.8225 - val_loss: 27.1220 - val_mae: 3.6811\n",
            "Epoch 35/100\n",
            "404/404 [==============================] - 1s 2ms/step - loss: 28.6071 - mae: 3.8122 - val_loss: 33.0688 - val_mae: 4.7236\n",
            "Epoch 36/100\n",
            "404/404 [==============================] - 1s 2ms/step - loss: 27.8064 - mae: 3.7694 - val_loss: 39.6741 - val_mae: 4.4024\n",
            "Epoch 37/100\n",
            "404/404 [==============================] - 1s 2ms/step - loss: 26.7915 - mae: 3.7246 - val_loss: 42.0373 - val_mae: 5.6086\n",
            "Epoch 38/100\n",
            "404/404 [==============================] - 1s 2ms/step - loss: 26.0899 - mae: 3.7035 - val_loss: 31.4728 - val_mae: 4.4882\n",
            "Epoch 39/100\n",
            "404/404 [==============================] - 1s 3ms/step - loss: 24.6681 - mae: 3.6277 - val_loss: 26.3448 - val_mae: 3.7180\n",
            "Epoch 40/100\n",
            "404/404 [==============================] - 1s 3ms/step - loss: 25.7961 - mae: 3.6782 - val_loss: 30.8334 - val_mae: 4.5260\n",
            "Epoch 41/100\n",
            "404/404 [==============================] - 1s 2ms/step - loss: 25.7399 - mae: 3.6602 - val_loss: 29.1561 - val_mae: 3.7218\n",
            "Epoch 42/100\n",
            "404/404 [==============================] - 1s 2ms/step - loss: 24.4104 - mae: 3.5742 - val_loss: 26.6692 - val_mae: 3.6501\n",
            "Epoch 43/100\n",
            "404/404 [==============================] - 1s 2ms/step - loss: 24.3337 - mae: 3.5018 - val_loss: 30.9046 - val_mae: 3.8520\n",
            "Epoch 44/100\n",
            "404/404 [==============================] - 1s 2ms/step - loss: 24.3895 - mae: 3.3926 - val_loss: 25.3655 - val_mae: 3.7394\n",
            "Epoch 45/100\n",
            "404/404 [==============================] - 1s 2ms/step - loss: 23.4895 - mae: 3.4476 - val_loss: 29.6040 - val_mae: 4.3585\n",
            "Epoch 46/100\n",
            "404/404 [==============================] - 1s 2ms/step - loss: 24.5923 - mae: 3.4829 - val_loss: 29.3477 - val_mae: 3.7675\n",
            "Epoch 47/100\n",
            "404/404 [==============================] - 1s 2ms/step - loss: 24.2998 - mae: 3.5248 - val_loss: 31.6063 - val_mae: 3.9833\n",
            "Epoch 48/100\n",
            "404/404 [==============================] - 1s 2ms/step - loss: 22.9446 - mae: 3.4145 - val_loss: 31.7844 - val_mae: 3.9719\n",
            "Epoch 49/100\n",
            "404/404 [==============================] - 1s 2ms/step - loss: 23.1516 - mae: 3.3845 - val_loss: 25.2486 - val_mae: 3.6115\n",
            "Epoch 50/100\n",
            "404/404 [==============================] - 1s 2ms/step - loss: 22.6526 - mae: 3.4249 - val_loss: 24.9676 - val_mae: 3.5610\n",
            "Epoch 51/100\n",
            "404/404 [==============================] - 1s 2ms/step - loss: 22.3365 - mae: 3.4068 - val_loss: 25.7271 - val_mae: 3.7967\n",
            "Epoch 52/100\n",
            "404/404 [==============================] - 1s 2ms/step - loss: 21.2163 - mae: 3.3429 - val_loss: 30.7395 - val_mae: 3.9224\n",
            "Epoch 53/100\n",
            "404/404 [==============================] - 1s 3ms/step - loss: 22.3382 - mae: 3.3072 - val_loss: 25.8484 - val_mae: 3.5844\n",
            "Epoch 54/100\n",
            "404/404 [==============================] - 1s 3ms/step - loss: 21.2211 - mae: 3.3294 - val_loss: 33.6796 - val_mae: 4.0688\n",
            "Epoch 55/100\n",
            "404/404 [==============================] - 1s 2ms/step - loss: 21.9271 - mae: 3.3208 - val_loss: 31.7069 - val_mae: 4.4734\n",
            "Epoch 56/100\n",
            "404/404 [==============================] - 1s 2ms/step - loss: 20.8846 - mae: 3.3382 - val_loss: 26.6829 - val_mae: 3.6323\n",
            "Epoch 57/100\n",
            "404/404 [==============================] - 1s 2ms/step - loss: 19.6784 - mae: 3.1210 - val_loss: 26.9184 - val_mae: 3.8272\n",
            "Epoch 58/100\n",
            "404/404 [==============================] - 1s 2ms/step - loss: 19.8370 - mae: 3.1750 - val_loss: 27.5709 - val_mae: 3.6932\n",
            "Epoch 59/100\n",
            "404/404 [==============================] - 1s 2ms/step - loss: 19.4950 - mae: 3.2896 - val_loss: 29.5463 - val_mae: 3.7677\n",
            "Epoch 60/100\n",
            "404/404 [==============================] - 1s 2ms/step - loss: 21.2196 - mae: 3.2704 - val_loss: 24.9319 - val_mae: 3.5575\n",
            "Epoch 61/100\n",
            "404/404 [==============================] - 1s 2ms/step - loss: 19.9401 - mae: 3.2081 - val_loss: 27.9971 - val_mae: 3.7141\n",
            "Epoch 62/100\n",
            "404/404 [==============================] - 1s 2ms/step - loss: 19.7447 - mae: 3.2769 - val_loss: 32.5660 - val_mae: 3.9593\n",
            "Epoch 63/100\n",
            "404/404 [==============================] - 1s 2ms/step - loss: 19.0364 - mae: 3.1075 - val_loss: 34.6397 - val_mae: 4.5234\n",
            "Epoch 64/100\n",
            "404/404 [==============================] - 1s 2ms/step - loss: 19.8695 - mae: 3.1456 - val_loss: 30.7067 - val_mae: 3.7907\n",
            "Epoch 65/100\n",
            "404/404 [==============================] - 1s 2ms/step - loss: 20.5434 - mae: 3.2495 - val_loss: 27.4614 - val_mae: 3.7155\n",
            "Epoch 66/100\n",
            "404/404 [==============================] - 1s 2ms/step - loss: 20.3564 - mae: 3.1573 - val_loss: 26.0030 - val_mae: 3.5830\n",
            "Epoch 67/100\n",
            "404/404 [==============================] - 1s 3ms/step - loss: 19.0273 - mae: 3.0663 - val_loss: 32.1363 - val_mae: 4.0627\n",
            "Epoch 68/100\n",
            "404/404 [==============================] - 1s 3ms/step - loss: 18.8097 - mae: 3.1567 - val_loss: 30.0386 - val_mae: 4.0967\n",
            "Epoch 69/100\n",
            "404/404 [==============================] - 1s 3ms/step - loss: 18.9675 - mae: 3.0061 - val_loss: 27.6721 - val_mae: 3.5864\n",
            "Epoch 70/100\n",
            "404/404 [==============================] - 1s 2ms/step - loss: 17.6636 - mae: 3.0204 - val_loss: 28.1252 - val_mae: 3.6881\n",
            "Epoch 71/100\n",
            "404/404 [==============================] - 1s 2ms/step - loss: 17.9503 - mae: 3.0517 - val_loss: 32.2283 - val_mae: 3.9974\n",
            "Epoch 72/100\n",
            "404/404 [==============================] - 1s 2ms/step - loss: 18.6547 - mae: 3.1429 - val_loss: 37.3293 - val_mae: 4.2864\n",
            "Epoch 73/100\n",
            "404/404 [==============================] - 1s 2ms/step - loss: 18.9979 - mae: 3.0972 - val_loss: 26.5980 - val_mae: 3.5260\n",
            "Epoch 74/100\n",
            "404/404 [==============================] - 1s 2ms/step - loss: 18.9755 - mae: 3.1571 - val_loss: 25.8046 - val_mae: 3.5271\n",
            "Epoch 75/100\n",
            "404/404 [==============================] - 1s 2ms/step - loss: 17.6292 - mae: 3.0968 - val_loss: 27.0747 - val_mae: 3.6288\n",
            "Epoch 76/100\n",
            "404/404 [==============================] - 1s 2ms/step - loss: 18.3227 - mae: 3.0688 - val_loss: 32.8365 - val_mae: 4.0338\n",
            "Epoch 77/100\n",
            "404/404 [==============================] - 1s 2ms/step - loss: 18.0851 - mae: 3.0653 - val_loss: 28.1183 - val_mae: 3.6909\n",
            "Epoch 78/100\n",
            "404/404 [==============================] - 1s 2ms/step - loss: 17.2905 - mae: 2.9959 - val_loss: 39.6544 - val_mae: 4.4111\n",
            "Epoch 79/100\n",
            "404/404 [==============================] - 1s 2ms/step - loss: 17.5224 - mae: 3.0160 - val_loss: 28.3557 - val_mae: 3.6763\n",
            "Epoch 80/100\n",
            "404/404 [==============================] - 1s 2ms/step - loss: 16.8549 - mae: 2.9689 - val_loss: 28.8766 - val_mae: 3.6741\n",
            "Epoch 81/100\n",
            "404/404 [==============================] - 1s 3ms/step - loss: 17.9098 - mae: 3.0321 - val_loss: 28.7765 - val_mae: 3.7921\n",
            "Epoch 82/100\n",
            "404/404 [==============================] - 1s 3ms/step - loss: 16.9150 - mae: 2.9925 - val_loss: 27.0286 - val_mae: 3.6538\n",
            "Epoch 83/100\n",
            "404/404 [==============================] - 1s 3ms/step - loss: 15.9471 - mae: 2.8295 - val_loss: 46.3175 - val_mae: 4.8467\n",
            "Epoch 84/100\n",
            "404/404 [==============================] - 1s 2ms/step - loss: 18.9867 - mae: 3.0542 - val_loss: 33.5618 - val_mae: 4.0562\n",
            "Epoch 85/100\n",
            "404/404 [==============================] - 1s 2ms/step - loss: 17.1091 - mae: 2.9599 - val_loss: 32.8931 - val_mae: 3.8128\n",
            "Epoch 86/100\n",
            "404/404 [==============================] - 1s 2ms/step - loss: 16.8523 - mae: 2.9502 - val_loss: 30.1754 - val_mae: 3.7785\n",
            "Epoch 87/100\n",
            "404/404 [==============================] - 1s 2ms/step - loss: 17.8963 - mae: 3.0071 - val_loss: 28.4156 - val_mae: 3.6130\n",
            "Epoch 88/100\n",
            "404/404 [==============================] - 1s 2ms/step - loss: 16.6871 - mae: 2.9632 - val_loss: 29.9431 - val_mae: 3.8049\n",
            "Epoch 89/100\n",
            "404/404 [==============================] - 1s 2ms/step - loss: 16.8279 - mae: 3.0201 - val_loss: 29.9863 - val_mae: 3.7739\n",
            "Epoch 90/100\n",
            "404/404 [==============================] - 1s 2ms/step - loss: 17.2385 - mae: 2.9644 - val_loss: 32.6401 - val_mae: 3.8629\n",
            "Epoch 91/100\n",
            "404/404 [==============================] - 1s 2ms/step - loss: 17.4037 - mae: 2.8799 - val_loss: 28.5482 - val_mae: 3.6104\n",
            "Epoch 92/100\n",
            "404/404 [==============================] - 1s 2ms/step - loss: 15.6304 - mae: 2.9176 - val_loss: 31.9087 - val_mae: 3.9334\n",
            "Epoch 93/100\n",
            "404/404 [==============================] - 1s 2ms/step - loss: 17.8304 - mae: 2.9089 - val_loss: 34.2225 - val_mae: 4.0122\n",
            "Epoch 94/100\n",
            "404/404 [==============================] - 1s 2ms/step - loss: 17.5024 - mae: 2.9302 - val_loss: 39.3105 - val_mae: 4.3931\n",
            "Epoch 95/100\n",
            "404/404 [==============================] - 1s 2ms/step - loss: 15.7683 - mae: 2.8595 - val_loss: 28.9890 - val_mae: 3.6150\n",
            "Epoch 96/100\n",
            "404/404 [==============================] - 1s 3ms/step - loss: 16.4224 - mae: 2.9704 - val_loss: 26.6596 - val_mae: 3.5612\n",
            "Epoch 97/100\n",
            "404/404 [==============================] - 1s 3ms/step - loss: 16.0198 - mae: 2.8825 - val_loss: 33.5642 - val_mae: 3.9805\n",
            "Epoch 98/100\n",
            "404/404 [==============================] - 1s 2ms/step - loss: 17.4334 - mae: 2.8769 - val_loss: 29.5513 - val_mae: 3.6783\n",
            "Epoch 99/100\n",
            "404/404 [==============================] - 1s 2ms/step - loss: 16.7800 - mae: 2.8865 - val_loss: 28.4986 - val_mae: 3.6412\n",
            "Epoch 100/100\n",
            "404/404 [==============================] - 1s 2ms/step - loss: 17.3037 - mae: 2.8812 - val_loss: 27.3310 - val_mae: 3.5245\n"
          ]
        }
      ]
    },
    {
      "cell_type": "code",
      "source": [
        "results = model.evaluate(X_test, Y_test)\n",
        "print(results)\n"
      ],
      "metadata": {
        "colab": {
          "base_uri": "https://localhost:8080/"
        },
        "id": "CljO-Ze0nLiB",
        "outputId": "1f98e031-1518-424c-9fde-8e1d239f64d5"
      },
      "execution_count": 9,
      "outputs": [
        {
          "output_type": "stream",
          "name": "stdout",
          "text": [
            "4/4 [==============================] - 0s 6ms/step - loss: 27.3310 - mae: 3.5245\n",
            "[27.33102035522461, 3.524540424346924]\n"
          ]
        }
      ]
    },
    {
      "cell_type": "code",
      "source": [],
      "metadata": {
        "id": "Vo5UREqGnjc4"
      },
      "execution_count": null,
      "outputs": []
    }
  ]
}
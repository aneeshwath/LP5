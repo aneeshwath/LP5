{
  "nbformat": 4,
  "nbformat_minor": 0,
  "metadata": {
    "colab": {
      "provenance": [],
      "authorship_tag": "ABX9TyNpUsZth1HavjfcclfHF36O",
      "include_colab_link": true
    },
    "kernelspec": {
      "name": "python3",
      "display_name": "Python 3"
    },
    "language_info": {
      "name": "python"
    }
  },
  "cells": [
    {
      "cell_type": "markdown",
      "metadata": {
        "id": "view-in-github",
        "colab_type": "text"
      },
      "source": [
        "<a href=\"https://colab.research.google.com/github/aneeshwath/LP5/blob/main/IMDB.ipynb\" target=\"_parent\"><img src=\"https://colab.research.google.com/assets/colab-badge.svg\" alt=\"Open In Colab\"/></a>"
      ]
    },
    {
      "cell_type": "code",
      "execution_count": 1,
      "metadata": {
        "id": "zNVMVsUpLe-Z"
      },
      "outputs": [],
      "source": [
        "from  keras.datasets import imdb"
      ]
    },
    {
      "cell_type": "code",
      "source": [
        "(train_data, train_labels), (test_data, test_labels) = imdb.load_data(num_words=10000)"
      ],
      "metadata": {
        "colab": {
          "base_uri": "https://localhost:8080/"
        },
        "id": "EgtP5satLoHj",
        "outputId": "695da78a-02d6-4097-c2c8-0c5ce3ad7999"
      },
      "execution_count": 2,
      "outputs": [
        {
          "output_type": "stream",
          "name": "stdout",
          "text": [
            "Downloading data from https://storage.googleapis.com/tensorflow/tf-keras-datasets/imdb.npz\n",
            "17464789/17464789 [==============================] - 0s 0us/step\n"
          ]
        }
      ]
    },
    {
      "cell_type": "code",
      "source": [
        "max([max(sequence) for sequence in train_data])"
      ],
      "metadata": {
        "colab": {
          "base_uri": "https://localhost:8080/"
        },
        "id": "7RK2G6HjLu6q",
        "outputId": "2a39a83a-7ede-4dc7-d218-0542d035444b"
      },
      "execution_count": 3,
      "outputs": [
        {
          "output_type": "execute_result",
          "data": {
            "text/plain": [
              "9999"
            ]
          },
          "metadata": {},
          "execution_count": 3
        }
      ]
    },
    {
      "cell_type": "code",
      "source": [
        "word_index = imdb.get_word_index()\n",
        "reverse_word_index = dict([(val, key) for (key, val) in word_index.items()])\n",
        "decoded_review = ' '.join([reverse_word_index.get(i-3, '?') for i in train_data[0]])"
      ],
      "metadata": {
        "colab": {
          "base_uri": "https://localhost:8080/"
        },
        "id": "eBXczgp-LzEU",
        "outputId": "63ebf2d8-e4dd-4f26-8eff-3bdb53ab2a22"
      },
      "execution_count": 4,
      "outputs": [
        {
          "output_type": "stream",
          "name": "stdout",
          "text": [
            "Downloading data from https://storage.googleapis.com/tensorflow/tf-keras-datasets/imdb_word_index.json\n",
            "1641221/1641221 [==============================] - 0s 0us/step\n"
          ]
        }
      ]
    },
    {
      "cell_type": "code",
      "source": [
        "import numpy as np"
      ],
      "metadata": {
        "id": "u9KQzDmAL2Qw"
      },
      "execution_count": 5,
      "outputs": []
    },
    {
      "cell_type": "code",
      "source": [
        "def vectorize(sequences, dimension=10000):\n",
        "\t\tresults = np.zeros((len(sequences), dimension))\n",
        "\t\tfor i, sequence in enumerate(sequences):\n",
        "\t\t\tresults[i, sequence] = 1\n",
        "\t\treturn results"
      ],
      "metadata": {
        "id": "vYuCJC6LL6LU"
      },
      "execution_count": 6,
      "outputs": []
    },
    {
      "cell_type": "code",
      "source": [
        "x_train = vectorize(train_data)\n",
        "x_test = vectorize(test_data)\n",
        "y_train = np.asarray(train_labels).astype('float32')\n",
        "y_test = np.asarray(test_labels).astype('float32')"
      ],
      "metadata": {
        "id": "C6Jjos0dL-II"
      },
      "execution_count": 7,
      "outputs": []
    },
    {
      "cell_type": "code",
      "source": [
        "from keras import models\n",
        "from keras import layers"
      ],
      "metadata": {
        "id": "8rNU9pjRME2U"
      },
      "execution_count": 8,
      "outputs": []
    },
    {
      "cell_type": "code",
      "source": [
        "model = models.Sequential()\n",
        "model.add(layers.Dense(16, activation='relu', input_shape=(10000,)))\n",
        "model.add(layers.Dense(16, activation='relu'))\n",
        "model.add(layers.Dense(1, activation='sigmoid'))"
      ],
      "metadata": {
        "id": "WIr5u7CqMHyg"
      },
      "execution_count": 9,
      "outputs": []
    },
    {
      "cell_type": "code",
      "source": [
        "model.compile(loss = 'binary_crossentropy',optimizer='rmsprop',  metrics = ['accuracy'])"
      ],
      "metadata": {
        "id": "b2B85tPbMKaC"
      },
      "execution_count": 10,
      "outputs": []
    },
    {
      "cell_type": "code",
      "source": [
        "x_val = x_train[:10000]\n",
        "y_val = y_train[:10000]"
      ],
      "metadata": {
        "id": "h3dybQ_YMMuw"
      },
      "execution_count": 11,
      "outputs": []
    },
    {
      "cell_type": "code",
      "source": [
        "partial_x = x_train[10000:]\n",
        "partial_y = y_train[10000:]"
      ],
      "metadata": {
        "id": "PxxtrIjFMPVq"
      },
      "execution_count": 12,
      "outputs": []
    },
    {
      "cell_type": "code",
      "source": [
        "history = model.fit(partial_x, partial_y, epochs=20, batch_size=512, validation_data=(x_val, y_val))\n",
        "results = model.evaluate(x_test, y_test)\n",
        "print(results)"
      ],
      "metadata": {
        "colab": {
          "base_uri": "https://localhost:8080/"
        },
        "id": "0FEUEf2IMRTL",
        "outputId": "8a8b8a88-5231-48c5-95c3-7007016b6224"
      },
      "execution_count": 13,
      "outputs": [
        {
          "output_type": "stream",
          "name": "stdout",
          "text": [
            "Epoch 1/20\n",
            "30/30 [==============================] - 3s 74ms/step - loss: 0.5285 - accuracy: 0.7747 - val_loss: 0.4004 - val_accuracy: 0.8683\n",
            "Epoch 2/20\n",
            "30/30 [==============================] - 1s 33ms/step - loss: 0.3240 - accuracy: 0.8957 - val_loss: 0.3223 - val_accuracy: 0.8769\n",
            "Epoch 3/20\n",
            "30/30 [==============================] - 1s 35ms/step - loss: 0.2389 - accuracy: 0.9216 - val_loss: 0.2889 - val_accuracy: 0.8864\n",
            "Epoch 4/20\n",
            "30/30 [==============================] - 1s 34ms/step - loss: 0.1939 - accuracy: 0.9365 - val_loss: 0.2764 - val_accuracy: 0.8892\n",
            "Epoch 5/20\n",
            "30/30 [==============================] - 1s 35ms/step - loss: 0.1590 - accuracy: 0.9496 - val_loss: 0.2887 - val_accuracy: 0.8860\n",
            "Epoch 6/20\n",
            "30/30 [==============================] - 1s 49ms/step - loss: 0.1355 - accuracy: 0.9590 - val_loss: 0.2820 - val_accuracy: 0.8881\n",
            "Epoch 7/20\n",
            "30/30 [==============================] - 2s 52ms/step - loss: 0.1130 - accuracy: 0.9654 - val_loss: 0.2924 - val_accuracy: 0.8872\n",
            "Epoch 8/20\n",
            "30/30 [==============================] - 1s 38ms/step - loss: 0.0983 - accuracy: 0.9716 - val_loss: 0.3108 - val_accuracy: 0.8814\n",
            "Epoch 9/20\n",
            "30/30 [==============================] - 1s 36ms/step - loss: 0.0822 - accuracy: 0.9773 - val_loss: 0.3270 - val_accuracy: 0.8822\n",
            "Epoch 10/20\n",
            "30/30 [==============================] - 1s 33ms/step - loss: 0.0701 - accuracy: 0.9823 - val_loss: 0.3400 - val_accuracy: 0.8840\n",
            "Epoch 11/20\n",
            "30/30 [==============================] - 1s 34ms/step - loss: 0.0566 - accuracy: 0.9870 - val_loss: 0.3581 - val_accuracy: 0.8801\n",
            "Epoch 12/20\n",
            "30/30 [==============================] - 1s 33ms/step - loss: 0.0503 - accuracy: 0.9883 - val_loss: 0.3781 - val_accuracy: 0.8811\n",
            "Epoch 13/20\n",
            "30/30 [==============================] - 1s 33ms/step - loss: 0.0379 - accuracy: 0.9930 - val_loss: 0.4020 - val_accuracy: 0.8741\n",
            "Epoch 14/20\n",
            "30/30 [==============================] - 1s 35ms/step - loss: 0.0340 - accuracy: 0.9935 - val_loss: 0.4201 - val_accuracy: 0.8779\n",
            "Epoch 15/20\n",
            "30/30 [==============================] - 1s 35ms/step - loss: 0.0257 - accuracy: 0.9963 - val_loss: 0.4392 - val_accuracy: 0.8753\n",
            "Epoch 16/20\n",
            "30/30 [==============================] - 1s 35ms/step - loss: 0.0229 - accuracy: 0.9962 - val_loss: 0.4625 - val_accuracy: 0.8749\n",
            "Epoch 17/20\n",
            "30/30 [==============================] - 1s 35ms/step - loss: 0.0164 - accuracy: 0.9983 - val_loss: 0.4947 - val_accuracy: 0.8736\n",
            "Epoch 18/20\n",
            "30/30 [==============================] - 2s 57ms/step - loss: 0.0148 - accuracy: 0.9983 - val_loss: 0.5086 - val_accuracy: 0.8726\n",
            "Epoch 19/20\n",
            "30/30 [==============================] - 1s 45ms/step - loss: 0.0094 - accuracy: 0.9997 - val_loss: 0.5972 - val_accuracy: 0.8633\n",
            "Epoch 20/20\n",
            "30/30 [==============================] - 1s 35ms/step - loss: 0.0121 - accuracy: 0.9979 - val_loss: 0.5524 - val_accuracy: 0.8724\n",
            "782/782 [==============================] - 2s 3ms/step - loss: 0.5929 - accuracy: 0.8608\n",
            "[0.5928869843482971, 0.860759973526001]\n"
          ]
        }
      ]
    },
    {
      "cell_type": "code",
      "source": [],
      "metadata": {
        "id": "NM1w2X6GMTRS"
      },
      "execution_count": null,
      "outputs": []
    }
  ]
}
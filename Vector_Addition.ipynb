{
  "nbformat": 4,
  "nbformat_minor": 0,
  "metadata": {
    "colab": {
      "provenance": [],
      "gpuType": "T4",
      "authorship_tag": "ABX9TyNNOE7aO2GGeAPBLbmfizSO",
      "include_colab_link": true
    },
    "kernelspec": {
      "name": "python3",
      "display_name": "Python 3"
    },
    "language_info": {
      "name": "python"
    },
    "accelerator": "GPU"
  },
  "cells": [
    {
      "cell_type": "markdown",
      "metadata": {
        "id": "view-in-github",
        "colab_type": "text"
      },
      "source": [
        "<a href=\"https://colab.research.google.com/github/aneeshwath/LP5/blob/main/Vector_Addition.ipynb\" target=\"_parent\"><img src=\"https://colab.research.google.com/assets/colab-badge.svg\" alt=\"Open In Colab\"/></a>"
      ]
    },
    {
      "cell_type": "code",
      "execution_count": 1,
      "metadata": {
        "colab": {
          "base_uri": "https://localhost:8080/"
        },
        "id": "OLUHRlRt2dK3",
        "outputId": "5340d49d-3fc7-439a-edd9-48b1f0f18f98"
      },
      "outputs": [
        {
          "output_type": "stream",
          "name": "stdout",
          "text": [
            "nvcc: NVIDIA (R) Cuda compiler driver\n",
            "Copyright (c) 2005-2023 NVIDIA Corporation\n",
            "Built on Tue_Aug_15_22:02:13_PDT_2023\n",
            "Cuda compilation tools, release 12.2, V12.2.140\n",
            "Build cuda_12.2.r12.2/compiler.33191640_0\n"
          ]
        }
      ],
      "source": [
        "!nvcc --version"
      ]
    },
    {
      "cell_type": "code",
      "source": [
        "!pip install git+https://github.com/andreinechaev/nvcc4jupyter.git"
      ],
      "metadata": {
        "colab": {
          "base_uri": "https://localhost:8080/"
        },
        "id": "9tgLgGwn412P",
        "outputId": "1f105251-35b8-44b8-9ef4-5026443a50f8"
      },
      "execution_count": 2,
      "outputs": [
        {
          "output_type": "stream",
          "name": "stdout",
          "text": [
            "Collecting git+https://github.com/andreinechaev/nvcc4jupyter.git\n",
            "  Cloning https://github.com/andreinechaev/nvcc4jupyter.git to /tmp/pip-req-build-_ocoovf_\n",
            "  Running command git clone --filter=blob:none --quiet https://github.com/andreinechaev/nvcc4jupyter.git /tmp/pip-req-build-_ocoovf_\n",
            "  Resolved https://github.com/andreinechaev/nvcc4jupyter.git to commit 5741c522547756ac4bb7a16df32106a15efb8a57\n",
            "  Installing build dependencies ... \u001b[?25l\u001b[?25hdone\n",
            "  Getting requirements to build wheel ... \u001b[?25l\u001b[?25hdone\n",
            "  Preparing metadata (pyproject.toml) ... \u001b[?25l\u001b[?25hdone\n",
            "Building wheels for collected packages: nvcc4jupyter\n",
            "  Building wheel for nvcc4jupyter (pyproject.toml) ... \u001b[?25l\u001b[?25hdone\n",
            "  Created wheel for nvcc4jupyter: filename=nvcc4jupyter-1.2.1-py3-none-any.whl size=10742 sha256=8f76f24c8ef76f4567737825c96eef1bce4cf6e61dca70f1aea8c5c7f7a278f6\n",
            "  Stored in directory: /tmp/pip-ephem-wheel-cache-yoknb5yf/wheels/a8/b9/18/23f8ef71ceb0f63297dd1903aedd067e6243a68ea756d6feea\n",
            "Successfully built nvcc4jupyter\n",
            "Installing collected packages: nvcc4jupyter\n",
            "Successfully installed nvcc4jupyter-1.2.1\n"
          ]
        }
      ]
    },
    {
      "cell_type": "code",
      "source": [
        "%load_ext nvcc4jupyter"
      ],
      "metadata": {
        "colab": {
          "base_uri": "https://localhost:8080/"
        },
        "id": "qI9X1g1r44kR",
        "outputId": "cff0cf76-3d6d-4d23-8a3b-849b79492ad1"
      },
      "execution_count": 3,
      "outputs": [
        {
          "output_type": "stream",
          "name": "stdout",
          "text": [
            "Detected platform \"Colab\". Running its setup...\n",
            "Source files will be saved in \"/tmp/tmp1q246bfz\".\n"
          ]
        }
      ]
    },
    {
      "cell_type": "markdown",
      "source": [
        "**CUDA HELLO WORLD**"
      ],
      "metadata": {
        "id": "P8CeN_TG5EPX"
      }
    },
    {
      "cell_type": "code",
      "source": [
        "%%cuda\n",
        "#include <stdio.h>\n",
        "\n",
        "__global__ void hello(){\n",
        "    printf(\"Hello from block: %u, thread: %u\\n\", blockIdx.x, threadIdx.x);\n",
        "}\n",
        "\n",
        "int main(){\n",
        "    hello<<<2, 2>>>();\n",
        "    cudaDeviceSynchronize();\n",
        "}"
      ],
      "metadata": {
        "colab": {
          "base_uri": "https://localhost:8080/"
        },
        "id": "Kdbsg-NK5H4T",
        "outputId": "1dbe7b79-8496-40c9-c35b-642b0b126f8c"
      },
      "execution_count": 4,
      "outputs": [
        {
          "output_type": "stream",
          "name": "stdout",
          "text": [
            "Hello from block: 0, thread: 0\n",
            "Hello from block: 0, thread: 1\n",
            "Hello from block: 1, thread: 0\n",
            "Hello from block: 1, thread: 1\n",
            "\n"
          ]
        }
      ]
    },
    {
      "cell_type": "markdown",
      "source": [
        "**1) n blocks and one thread per block (In this example n=6)**"
      ],
      "metadata": {
        "id": "yS8DYmsO8IaP"
      }
    },
    {
      "cell_type": "code",
      "source": [
        "%%cuda\n",
        "#include<stdio.h>\n",
        "#include<cuda.h>\n",
        "\n",
        "__global__ void arradd(int *x,int *y, int *z)    //kernel definition\n",
        "{\n",
        "  int id=blockIdx.x;\n",
        "/* blockIdx.x gives the respective block id which starts from 0 */\n",
        "  z[id]=x[id]+y[id];\n",
        "}\n",
        "\n",
        "int main()\n",
        "{\n",
        "    int a[6]={1,2,3,4,5,6};\n",
        "    int b[6]={1,2,3,4,5,6};\n",
        "    int c[6];\n",
        "    int *d,*e,*f;\n",
        "    int i;\n",
        "    /*\n",
        "    printf(\"\\n Enter six elements of first array\\n\");\n",
        "    for(i=0;i<6;i++)\n",
        "    {\n",
        "        scanf(\"%d\",&a[i]);\n",
        "    }\n",
        "    printf(\"\\n Enter six elements of second array\\n\");\n",
        "        for(i=0;i<6;i++)\n",
        "        {\n",
        "            scanf(\"%d\",&b[i]);\n",
        "        }\n",
        "    */\n",
        "\n",
        "/* cudaMalloc() allocates memory from Global memory on GPU */\n",
        "    cudaMalloc((void **)&d,6*sizeof(int));\n",
        "    cudaMalloc((void **)&e,6*sizeof(int));\n",
        "    cudaMalloc((void **)&f,6*sizeof(int));\n",
        "\n",
        "/* cudaMemcpy() copies the contents from destination to source. Here destination is GPU(d,e) and source is CPU(a,b) */\n",
        " cudaMemcpy(d,a,6*sizeof(int),cudaMemcpyHostToDevice);\n",
        "\n",
        "\n",
        " cudaMemcpy(e,b,6*sizeof(int),cudaMemcpyHostToDevice);\n",
        "\n",
        "/* call to kernel. Here 6 is number of blocks, 1 is the number of threads per block and d,e,f are the arguments */\n",
        "arradd<<<6,1>>>(d,e,f);\n",
        "\n",
        "/* Here we are copying content from GPU(Device) to CPU(Host) */\n",
        " cudaMemcpy(c,f,6*sizeof(int),cudaMemcpyDeviceToHost);\n",
        "\n",
        "printf(\"\\nSum of two arrays:\\n \");\n",
        "    for(i=0;i<6;i++)\n",
        "    {\n",
        "        printf(\"%d\\t\",c[i]);\n",
        "    }\n",
        "\n",
        "/* Free the memory allocated to pointers d,e,f */\n",
        "    cudaFree(d);\n",
        "    cudaFree(e);\n",
        "    cudaFree(f);\n",
        "\n",
        "    return 0;\n",
        "}"
      ],
      "metadata": {
        "colab": {
          "base_uri": "https://localhost:8080/"
        },
        "id": "6B2Gv0qn8K2y",
        "outputId": "621abbf3-437f-443f-9981-a9f57ebbd0f4"
      },
      "execution_count": 8,
      "outputs": [
        {
          "output_type": "stream",
          "name": "stdout",
          "text": [
            "\n",
            "Sum of two arrays:\n",
            " 2\t4\t6\t8\t10\t12\t\n"
          ]
        }
      ]
    },
    {
      "cell_type": "markdown",
      "source": [
        "**2) One block and n threads in that block (In this example n=6)**"
      ],
      "metadata": {
        "id": "6c_ih--F8WbC"
      }
    },
    {
      "cell_type": "code",
      "source": [
        "%%cuda\n",
        "#include<stdio.h>\n",
        "#include<cuda.h>\n",
        "__global__ void arradd(int *x,int *y, int *z)\n",
        "{\n",
        "    int id=threadIdx.x;\n",
        "/* threadIdx.x gives the respective thread id which starts from 0 */\n",
        "    z[id]=x[id]+y[id];\n",
        "}\n",
        "int main()\n",
        "{\n",
        "    int a[6]={1,2,3,4,5,6};\n",
        "    int b[6]={1,2,3,4,5,6};\n",
        "    int c[6];\n",
        "    int *d,*e,*f;\n",
        "    int i;\n",
        "\n",
        "    /*\n",
        "    printf(\"\\n Enter six elements of first array\\n\");\n",
        "    for(i=0;i<6;i++)\n",
        "    {\n",
        "        scanf(\"%d\",&a[i]);\n",
        "    }\n",
        "    printf(\"\\n Enter six elements of second array\\n\");\n",
        "        for(i=0;i<6;i++)\n",
        "        {\n",
        "            scanf(\"%d\",&b[i]);\n",
        "        }\n",
        "    */\n",
        "\n",
        "    cudaMalloc((void **)&d,6*sizeof(int));\n",
        "    cudaMalloc((void **)&e,6*sizeof(int));\n",
        "    cudaMalloc((void **)&f,6*sizeof(int));\n",
        " cudaMemcpy(d,a,6*sizeof(int),cudaMemcpyHostToDevice);   cudaMemcpy(e,b,6*sizeof(int),cudaMemcpyHostToDevice);\n",
        "    arradd<<<1,6>>>(d,e,f);\n",
        " cudaMemcpy(c,f,6*sizeof(int),cudaMemcpyDeviceToHost);\n",
        "    printf(\"\\nSum of two arrays:\\n \");\n",
        "    for(i=0;i<6;i++)\n",
        "    {\n",
        "        printf(\"%d\\t\",c[i]);\n",
        "    }\n",
        "    cudaFree(d);\n",
        "    cudaFree(e);\n",
        "    cudaFree(f);\n",
        "    return 0;\n",
        "}"
      ],
      "metadata": {
        "colab": {
          "base_uri": "https://localhost:8080/"
        },
        "id": "CSfESKbv8Yvl",
        "outputId": "c0131ab6-1d86-4254-d53b-a5052e3cd29a"
      },
      "execution_count": 10,
      "outputs": [
        {
          "output_type": "stream",
          "name": "stdout",
          "text": [
            "\n",
            "Sum of two arrays:\n",
            " 2\t4\t6\t8\t10\t12\t\n"
          ]
        }
      ]
    }
  ]
}